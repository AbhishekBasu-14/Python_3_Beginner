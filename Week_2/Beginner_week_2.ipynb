{
  "nbformat": 4,
  "nbformat_minor": 0,
  "metadata": {
    "colab": {
      "name": "Beginner_week_2.ipynb",
      "provenance": [],
      "collapsed_sections": []
    },
    "kernelspec": {
      "name": "python3",
      "display_name": "Python 3"
    }
  },
  "cells": [
    {
      "cell_type": "markdown",
      "metadata": {
        "id": "8nWTpB7PWR-f",
        "colab_type": "text"
      },
      "source": [
        "# **Beginner Tasks - Week 2**\n",
        "\n",
        "**Agenda:**   Developing   Python   Skills \n",
        "\n",
        "**- By Abhishek Basu**"
      ]
    },
    {
      "cell_type": "markdown",
      "metadata": {
        "id": "hhwvT4cEfjoA",
        "colab_type": "text"
      },
      "source": [
        "# **The *time* module- a briefe introduction**\n",
        "\n",
        "credits- www.tutorialspoint.com (only for time module)\n",
        "\n",
        "There is a popular time module available in Python which provides functions for working with times and for converting between representations. Here is the list of all available methods −\n",
        "\n",
        "1\ttime.altzone\n",
        "The offset of the local DST timezone, in seconds west of UTC, if one is defined. This is negative if the local DST timezone is east of UTC (as in Western Europe, including the UK). Only use this if daylight is nonzero.\n",
        "\n",
        "2\ttime.asctime([tupletime])\n",
        "Accepts a time-tuple and returns a readable 24-character string such as 'Tue Dec 11 18:07:14 2008'.\n",
        "\n",
        "3\ttime.clock( )\n",
        "Returns the current CPU time as a floating-point number of seconds. To measure computational costs of different approaches, the value of time.clock is more useful than that of time.time().\n",
        "\n",
        "4\ttime.ctime([secs])\n",
        "Like asctime(localtime(secs)) and without arguments is like asctime( )\n",
        "\n",
        "5\ttime.gmtime([secs])\n",
        "Accepts an instant expressed in seconds since the epoch and returns a time-tuple t with the UTC time. Note : t.tm_isdst is always 0\n",
        "\n",
        "6\ttime.localtime([secs])\n",
        "Accepts an instant expressed in seconds since the epoch and returns a time-tuple t with the local time (t.tm_isdst is 0 or 1, depending on whether DST applies to instant secs by local rules).\n",
        "\n",
        "7\ttime.mktime(tupletime)\n",
        "Accepts an instant expressed as a time-tuple in local time and returns a floating-point value with the instant expressed in seconds since the epoch.\n",
        "\n",
        "8\ttime.sleep(secs)\n",
        "Suspends the calling thread for secs seconds.\n",
        "\n",
        "9\ttime.strftime(fmt[,tupletime])\n",
        "Accepts an instant expressed as a time-tuple in local time and returns a string representing the instant as specified by string fmt.\n",
        "\n",
        "10\ttime.strptime(str,fmt='%a %b %d %H:%M:%S %Y')\n",
        "Parses str according to format string fmt and returns the instant in time-tuple format.\n",
        "\n",
        "11\ttime.time( )\n",
        "Returns the current time instant, a floating-point number of seconds since the epoch.\n",
        "\n",
        "12\ttime.tzset()\n",
        "Resets the time conversion rules used by the library routines. The environment variable TZ specifies how this is done\n",
        "\n",
        "--------------------------------------------------------------------------------\n",
        "\n",
        " **Here, in this colab notebook, we will use the *time.time()* method from the *time* module to calculate the time elapsed in each of the sorting method discussed below.**\n",
        "\n",
        "-------------------------------------------------------------------------------- "
      ]
    },
    {
      "cell_type": "markdown",
      "metadata": {
        "id": "ccpIYSoXWRtU",
        "colab_type": "text"
      },
      "source": [
        "# **Sorting Methods :-**\n",
        "# **1. Bubble Sort method (using user input)**\n",
        "\n",
        "The most commonly used sorting technique is the Bubblesort method. This is also the most easiest one and can be coded easily.\n",
        "\n",
        "Theory-\n",
        "\n",
        "A list of elements to be sorted is given as an input.\n",
        "\n",
        "In bubblesorting, the operation begins from the first element with index [0]. \n",
        "\n",
        "Step 1- The first and the second element are compared. Depending upon the sorting (ascending or descending order), if the elements are already in proper order, no change is made. If the elements are not arranged then, both the elements are swapped and saved in the list.\n",
        "\n",
        "Step 2- Now the operation moves to the next element. Here, the second and the third element are compared and if required, they are swapped depending upon the condition.\n",
        "\n",
        "Step 3- Comparison between 2 successive elements continue in similar manner till the last element is reached. Finally we get the sorted list after the last step.\n",
        "\n",
        "**Run the code below in order to have a better understanding of each code lines and also to get more information about them.**"
      ]
    },
    {
      "cell_type": "code",
      "metadata": {
        "id": "eMJ0z2I_WKdt",
        "colab_type": "code",
        "colab": {}
      },
      "source": [
        "#Bubble_Sort\n",
        "import time # module for calculating time required by this algorithm\n",
        "def bubbleSort(l):\n",
        "  start=time.time() # time calculation begins\n",
        "  for i in range(n): # loops n no. of times for n no. of user inputs\n",
        "      for j in range(n-i-1): # loops for comparing every 2 consecutive elements\n",
        "          if l[j]>l[j+1]: # < : descending , > : ascending (here, we have implemented ascending order sorting)\n",
        "              t=l[j] \n",
        "              l[j]=l[j+1]\n",
        "              l[j+1]=t\n",
        "  print(\"Time taken in seconds is\", time.time()-start) # gives the time elapsed in seconds\n",
        "n=int(input(\"How many nos. ? \")) # asking for user input\n",
        "l=[]\n",
        "t=0 # temporary variable for swapping\n",
        "for a in range(0,n):\n",
        "    x=int(input(\"Enter your no. \"))\n",
        "    l.append(x)\n",
        "print(\"Entered list is\",l) #prints the list l\n",
        "bubbleSort(l) #calling the function\n",
        "print(\"The sorted list is\",l) # final sorted list\n"
      ],
      "execution_count": 0,
      "outputs": []
    },
    {
      "cell_type": "markdown",
      "metadata": {
        "id": "8Zb3TGjKdp-R",
        "colab_type": "text"
      },
      "source": [
        "# **2. Selection Sort (using user input)**\n",
        "\n",
        "In this method, the entered list is sub-divided into 2 parts. A sorted list and the unsorted list.\n",
        "\n",
        "We work on the unsorted list and an element is appended to the sorted list during each cycle of iteration.\n",
        "\n",
        "Theory-\n",
        "\n",
        "Step 1- The first indexed element of the unsorted list is assumed to be minimum.\n",
        "\n",
        "Step 2- We look at each element of the unsorted list and find the minimum element (in case of ascending order)\n",
        "\n",
        "Step 3- This minimum element is swapped with the first indexed element so that the minimum number comes at the beginning.\n",
        "\n",
        "Step 4- This process continues in each iteration and so the formation of the sorted list continues until all the elements of the unsorted list is handled.\n",
        "\n",
        "Let's see how it works in action with a list that contains the following elements: [3, 5, 1, 2, 4].\n",
        "\n",
        "We begin with the unsorted list:\n",
        "\n",
        "3 5 1 2 4\n",
        "\n",
        "The unsorted section has all the elements. We look through each item and determine that 1 is the smallest element. So, we swap 1 with 3:\n",
        "\n",
        "1 5 3 2 4\n",
        "\n",
        "Of the remaining unsorted elements, [5, 3, 2, 4], 2 is the lowest number. We now swap 2 with 5:\n",
        "\n",
        "1 2 3 5 4\n",
        "\n",
        "This process continues until the list is sorted:\n",
        "\n",
        "\n",
        "1 2 3 5 4\n",
        "\n",
        "1 2 3 4 5\n",
        "\n",
        "1 2 3 4 5\n",
        "\n",
        "**Run the code below in order to have a better understanding of each code lines and also to get more information about them.**"
      ]
    },
    {
      "cell_type": "code",
      "metadata": {
        "id": "Eoh4bNQrQgwg",
        "colab_type": "code",
        "colab": {}
      },
      "source": [
        "#Selection_Sort\n",
        "import time # module for calculating time required by this algorithm\n",
        "def selectionSort(l):\n",
        "  start=time.time() # time calculation begins\n",
        "  for i in range(n-1):\n",
        "    min=i #assuming the first indexed element of the list is smallest\n",
        "    for j in range(i+1, n): # i+1 because the first index shifts as the list is sub-divided and we are working on the unsorted list\n",
        "      if l[min]>l[j]: # < : descending , > : ascending (here, we have implemented ascending order sorting)\n",
        "        min = j \n",
        "    l[i], l[min] = l[min], l[i] # another way of swapping two elements of the list\n",
        "  print(\"Time taken in seconds is\", time.time()-start) # gives the time elapsed in seconds\n",
        "n=int(input(\"How many nos. ? \")) # asking for user input\n",
        "l=[]\n",
        "for a in range(0,n):\n",
        "    x=int(input(\"Enter your no. \"))\n",
        "    l.append(x)\n",
        "print(\"Entered list is\",l) #prints the list l\n",
        "selectionSort(l) #calling the function\n",
        "print(\"Sorted list is\", l) # final sorted list\n",
        "\n"
      ],
      "execution_count": 0,
      "outputs": []
    },
    {
      "cell_type": "markdown",
      "metadata": {
        "id": "YKwCp8_GlSMF",
        "colab_type": "text"
      },
      "source": [
        "# **3. Insertion Sort (using user input)**\n",
        "\n",
        "In this sorting method, the unsorted list is taken as input and operation begins from the element at index position [1]. This value is passed to a loop and compared with the previous element. If condition is satisfied, the element at index [1], is shifted to its correct position. Now the next element at index [2] is passed to the loop. If conditions are satisfied, it is shifted to the left till the looping condition is true. This process continues till all the elements are shifted and inserted at their correct position depending upon ascending or descending order of sorting.\n",
        "\n",
        "Theory- \n",
        "\n",
        "Step 1- Iterate over the input elements by growing the sorted array at each iteration.\n",
        "\n",
        "Step 2- Compare the current element with the largest value available in the sorted array.\n",
        "\n",
        "Step 3- If the current element is greater, then it leaves the element in its place and moves on to the next element else it finds its correct position in the sorted array and moves it to that position in the array.\n",
        "\n",
        "Step 4- This is achieved by shifting all the elements towards the right, which are larger than the current element, in the sorted array to one position ahead.\n",
        "\n",
        "Working -\n",
        "\n",
        "Entered list - 3 7 5 6 9 compare 7 with 3, since 7 > 3, no shifting\n",
        "\n",
        "Now compare 5 with 7, since 5 < 7, move 5 to the left. We get, 3 5 7 6 9.\n",
        "Now compare 5 with 3, since 5 > 3, no shifting.\n",
        "\n",
        "Now compare 6 with 7, since 6 < 7, move 6 to left. We get, 3 5 6 7 9.\n",
        "Now compare 5 with 6, since 5 < 6, no shifting.\n",
        "\n",
        "Now compare 7 with 9, since 7 < 9, no shifting.\n",
        "\n",
        "Final list - 3 5 6 7 9\n",
        "\n",
        "**Run the code below in order to have a better understanding of each code lines and also to get more information about them.**"
      ]
    },
    {
      "cell_type": "code",
      "metadata": {
        "id": "MgCgwPMdhhDH",
        "colab_type": "code",
        "colab": {}
      },
      "source": [
        "#Insertion_Sort\n",
        "import time # module for calculating time required by this algorithm\n",
        "def insertionSort(l):\n",
        "  start=time.time() # time calculation begins\n",
        "  for i in range(1,n):\n",
        "    t=l[i] # setting value to a temporary variable\n",
        "    j=i-1 # for shifting index position by 1 to the left, now values will be compared.\n",
        "    while j>=0 and t<l[j]: # this looping includes index [0] and compares the value with the previous element \n",
        "      l[j+1]=l[j] # swap the values\n",
        "      j=j-1 # decrementing counter variable j\n",
        "    l[j+1]=t # setting to temporary variable\n",
        "  print(\"Time taken in seconds is\", time.time()-start) # gives the time elapsed in seconds\n",
        "n=int(input(\"How many nos. ? \")) # asking for user input\n",
        "l=[]\n",
        "for a in range(0,n):\n",
        "    x=int(input(\"Enter your no. \"))\n",
        "    l.append(x)\n",
        "print(\"Entered list is\",l) #prints the list l\n",
        "insertionSort(l) #calling the function\n",
        "print(\"Sorted list is\",l)\n"
      ],
      "execution_count": 0,
      "outputs": []
    },
    {
      "cell_type": "markdown",
      "metadata": {
        "id": "Na3r-5ZhaARQ",
        "colab_type": "text"
      },
      "source": [
        "# **4. Merge Sort (using user input)**\n",
        "\n",
        "Merge sort is a recursive algorithm that continually splits a list in half. If the list is empty or has one item, it is sorted by definition (the base case). If the list has more than one item, we split the list and recursively invoke a merge sort on both halves. Once the two halves are sorted, the fundamental operation, called a merge, is performed. Merging is the process of taking two smaller sorted lists and combining them together into a single, sorted, new list.\n",
        "\n",
        "\n",
        "**Run the code below in order to have a better understanding of each code lines and also to get more information about them.**"
      ]
    },
    {
      "cell_type": "code",
      "metadata": {
        "id": "HFHg4PKFZ83f",
        "colab_type": "code",
        "colab": {}
      },
      "source": [
        "#Merge_Sort\n",
        "import time\n",
        "def mergeSort(l): \n",
        "\tif len(l) >1: \n",
        "\t\tmid = len(l)//2 #Finding the mid of the array \n",
        "\t\tL = l[:mid] # first half \n",
        "\t\tR = l[mid:] # second half \n",
        "\n",
        "\t\tmergeSort(L) # Sorting the first half \n",
        "\t\tmergeSort(R) # Sorting the second half \n",
        "\n",
        "\t\ti = j = k = 0\n",
        "\t\t\n",
        "\t\t# merging sorted half array\n",
        "\t\twhile i < len(L) and j < len(R): \n",
        "\t\t\tif L[i] < R[j]: \n",
        "\t\t\t\tl[k] = L[i] \n",
        "\t\t\t\ti+=1\n",
        "\t\t\telse: \n",
        "\t\t\t\tl[k] = R[j] \n",
        "\t\t\t\tj+=1\n",
        "\t\t\tk+=1\n",
        "\t\t\n",
        "\t\twhile i < len(L): #to check if all elements are used\n",
        "\t\t\tl[k] = L[i] \n",
        "\t\t\ti+=1\n",
        "\t\t\tk+=1\n",
        "\t\t\n",
        "\t\twhile j < len(R): \n",
        "\t\t\tl[k] = R[j] \n",
        "\t\t\tj+=1\n",
        "\t\t\tk+=1\n",
        "\n",
        "n=int(input(\"How many nos. ? \")) # asking for user input\n",
        "l=[]\n",
        "for a in range(0,n):\n",
        "    x=int(input(\"Enter your no. \"))\n",
        "    l.append(x)\n",
        "print(\"Entered list is\",l) #prints the list l\n",
        "start=time.time() # time calculation begins\n",
        "mergeSort(l) #calling the function\n",
        "print(\"Time taken in seconds is\", time.time()-start) # gives the time elapsed in seconds\n",
        "print(\"The sorted array is\",l)"
      ],
      "execution_count": 0,
      "outputs": []
    },
    {
      "cell_type": "markdown",
      "metadata": {
        "id": "iTBMMePVaEJy",
        "colab_type": "text"
      },
      "source": [
        "# **Searching method :-**\n",
        "\n",
        "# **Binary Search (using user input)**\n",
        "\n",
        "Searching methods, as the name says, is a tool to search for an element in an entered list and also to find its position in the list for further operations as required. Binary search is a method to do it.\n",
        "\n",
        "**Prerequisite** - To implement Binary search, data on which we are working should be a sorted data in ascending or descending order. In case data entered is unsorted, we first sort it and then implement Binary search. This sorted data should be known as the final position of the element is wrt this sorted data.\n",
        "\n",
        "Sorting- This can be done using any of the methods explained above. However, we have an inbuilt function < list_name >.sort() which sorts the data in ascending order in just one line. So we use this function here.\n",
        "\n",
        "Theory-\n",
        "\n",
        "In Binary search, the sorted data is taken, and no. of elements is known to us.\n",
        "\n",
        "Step 1- Initialise a booelan variable 'found' as False. Start a while loop which runs till element is not found.\n",
        "\n",
        "Step 2- Find the middle index value.\n",
        "\n",
        "Step 3- Compare the search element value with middle value. Since, data is sorted, its easy to guess where our search element lies. If search value < middle value, it lies in the first half. Otherwise it lies in the secoond half. The best case scenario is when search value lies in the middle.\n",
        "\n",
        "Now each element in the respective half can be checked whether they match the search element value.\n",
        "\n",
        "**Run the code below in order to have a better understanding of each code lines and also to get more information about them.**\n",
        "\n"
      ]
    },
    {
      "cell_type": "code",
      "metadata": {
        "id": "rfEijVoRaN-T",
        "colab_type": "code",
        "colab": {}
      },
      "source": [
        "#Binary_Search\n",
        "n=int(input(\"How many nos. ? \")) # asking for user input\n",
        "l=[]\n",
        "for a in range(0,n):\n",
        "    x=int(input(\"Enter your no. \"))\n",
        "    l.append(x)\n",
        "print(\"Entered list is\",l) #prints the list l\n",
        "l.sort() #Sorting the list using inbuilt method for lists.\n",
        "print(\"Sorted list in ascending order is\", l)\n",
        "pos=0 # To store the position of the search element\n",
        "first=0 #index of first element\n",
        "last= n-1 #index of last element\n",
        "search=int(input(\"Enter your search element : \")) \n",
        "found = False #bool variable to check whether search element is present or not\n",
        "while first<=last and not found: #looping begins\n",
        "  mid=int((first+last)/2) #finding mid index position, has to be an int type\n",
        "  if l[mid]==search: # if search element is at the mid index\n",
        "    found= True\n",
        "    pos=mid\n",
        "  else: # for a case when search element is not at mid\n",
        "    if search < l[mid]: # data is sorted so if condition satisfied, search element lies in first half\n",
        "      last= mid-1 # for first half\n",
        "      pos=last\n",
        "    else: # for second half\n",
        "      first= mid+1\n",
        "      pos=first\n",
        "if found==False:\n",
        "  print(\"Element not found\")\n",
        "else:\n",
        "  print(\"In the sorted list, element is at index position\",pos)"
      ],
      "execution_count": 0,
      "outputs": []
    },
    {
      "cell_type": "markdown",
      "metadata": {
        "id": "3YQKg8K17sS_",
        "colab_type": "text"
      },
      "source": [
        "# **Generating Random List**\n",
        "\n",
        "**Using numpy and random modules**\n",
        "\n",
        "numpy.random.randint() is one of the function for doing random sampling in numpy. It returns an array of specified shape and fills it with random integers from low (inclusive) to high (exclusive), i.e. in the interval [low, high).\n",
        "\n",
        "When to use :-\n",
        "\n",
        "When we want the computer to pick a random number in a given range.\n",
        "\n",
        "If we wanted a random integer, we can use the randint function\n",
        "\n",
        "\n",
        "This was just a basic introduction which was required as we will use this in the next topic. There are many other methods available for different random list generation in the random module.\n",
        "\n",
        "**Run the code below in order to have a better understanding of each code lines and also to get more information about them.**\n",
        "\n",
        "\n",
        "\n"
      ]
    },
    {
      "cell_type": "code",
      "metadata": {
        "id": "AttWuC7o6eGc",
        "colab_type": "code",
        "colab": {}
      },
      "source": [
        "#Generting random list \n",
        "#using numpy and random\n",
        "import numpy as np\n",
        "l=list(np.random.randint(0, 100, 20)) #randint(start, stop, no. of samples) are the parameters \n",
        "print(type(l)) #proves that this is a random list\n",
        "print(\"This list has 20 random integers from 0 to 100\",l)\n",
        "\n",
        "m=list(np.random.randint(0, 10**5, 30)) #randint(start, stop, no. of samples) are the parameters \n",
        "print(\"This list has 30 random integers from 0 to 100000\",m)"
      ],
      "execution_count": 0,
      "outputs": []
    },
    {
      "cell_type": "markdown",
      "metadata": {
        "id": "a1Fv057u-eM_",
        "colab_type": "text"
      },
      "source": [
        "# **Sorting using Random list**\n",
        "\n",
        "Previously we saw sorting methods using user defined inputs. Now, we will see the same methods using random list and can also analyse the time taken by each of the above methods.\n",
        "\n"
      ]
    },
    {
      "cell_type": "markdown",
      "metadata": {
        "id": "wtUI3cXsJiN7",
        "colab_type": "text"
      },
      "source": [
        "# **Bubblesort (using Random List)**\n",
        "\n",
        "Instead of user input, we pass a random generated list created using above modules.\n",
        "\n",
        "The process of execution remains same as we had seen when we used user input list.\n",
        "\n",
        "**Run the code below in order to have a better understanding of each code lines and also to get more information about them.**"
      ]
    },
    {
      "cell_type": "code",
      "metadata": {
        "id": "YXo4-f95Jnp_",
        "colab_type": "code",
        "colab": {}
      },
      "source": [
        "import numpy as np\n",
        "import time\n",
        "\n",
        "l=list(np.random.randint(0, 10**5, 10000)) #This list has 10000 random integers from 0 to 100000\n",
        "n=len(l)\n",
        "print(\"Generated random list is\", l)\n",
        "print(\"\")\n",
        "\n",
        "def bubbleSort(l):\n",
        "  bubble_start=time.time() # time calculation begins for bubblesort\n",
        "  for i in range(n): # loops n no. of times for n no. of user inputs\n",
        "      for j in range(n-i-1): # loops for comparing every 2 consecutive elements\n",
        "          if l[j]>l[j+1]: # < : descending , > : ascending (here, we have implemented ascending order sorting)\n",
        "              t=l[j] \n",
        "              l[j]=l[j+1]\n",
        "              l[j+1]=t\n",
        "  print(\"Time taken in seconds is\", time.time()-bubble_start) # gives the time elapsed in seconds\n",
        "\n",
        "bubbleSort(l) #calling the function\n",
        "print(\"Bubble sorted list is\",l) # final sorted list"
      ],
      "execution_count": 0,
      "outputs": []
    },
    {
      "cell_type": "markdown",
      "metadata": {
        "id": "i0hXmhutKRfK",
        "colab_type": "text"
      },
      "source": [
        "# **Selection Sort (using Random List)**\n",
        "\n",
        "Instead of user input, we pass a random generated list created using above modules.\n",
        "\n",
        "The process of execution remains same as we had seen when we used user input list.\n",
        "\n",
        "**Run the code below in order to have a better understanding of each code lines and also to get more information about them.**"
      ]
    },
    {
      "cell_type": "code",
      "metadata": {
        "id": "6ixgXVvBKiep",
        "colab_type": "code",
        "colab": {}
      },
      "source": [
        "import numpy as np\n",
        "import time\n",
        "\n",
        "l=list(np.random.randint(0, 10**5, 10000)) #This list has 10000 random integers from 0 to 100000\n",
        "n=len(l)\n",
        "print(\"Generated random list is\", l)\n",
        "print(\"\")\n",
        "\n",
        "def selectionSort(l):\n",
        "  sel_start=time.time() # time calculation begins for selection sort\n",
        "  for i in range(n-1):\n",
        "    min=i #assuming the first indexed element of the list is smallest\n",
        "    for j in range(i+1, n): # i+1 because the first index shifts as the list is sub-divided and we are working on the unsorted list\n",
        "      if l[min]>l[j]: # < : descending , > : ascending (here, we have implemented ascending order sorting)\n",
        "        min = j \n",
        "    l[i], l[min] = l[min], l[i]\n",
        "  print(\"Time taken in seconds is\", time.time()-sel_start) # gives the time elapsed in seconds\n",
        "\n",
        "selectionSort(l) #calling the function\n",
        "print(\"Selection sorted list is\",l) # final sorted list"
      ],
      "execution_count": 0,
      "outputs": []
    },
    {
      "cell_type": "markdown",
      "metadata": {
        "id": "5Um7Qe6nK405",
        "colab_type": "text"
      },
      "source": [
        "# **Insertion Sort (using Random List)**\n",
        "\n",
        "Instead of user input, we pass a random generated list created using above modules.\n",
        "\n",
        "The process of execution remains same as we had seen when we used user input list.\n",
        "\n",
        "**Run the code below in order to have a better understanding of each code lines and also to get more information about them.**"
      ]
    },
    {
      "cell_type": "code",
      "metadata": {
        "id": "MGlga4YGK1H9",
        "colab_type": "code",
        "colab": {}
      },
      "source": [
        "import numpy as np\n",
        "import time\n",
        "\n",
        "l=list(np.random.randint(0, 10**5, 10000)) #This list has 10000 random integers from 0 to 100000\n",
        "n=len(l)\n",
        "print(\"Generated random list is\", l)\n",
        "print(\"\")\n",
        "\n",
        "def insertionSort(l):\n",
        "  ins_start=time.time() # time calculation begins for insertion sort\n",
        "  for i in range(1,n):\n",
        "    t=l[i] # setting value to a temporary variable\n",
        "    j=i-1 # for shifting index position by 1 to the left, now values will be compared.\n",
        "    while j>=0 and t<l[j]: # this looping includes index [0] and compares the value with the previous element \n",
        "      l[j+1]=l[j] # swap the values\n",
        "      j=j-1 # decrementing counter variable j\n",
        "    l[j+1]=t # setting to temporary variable\n",
        "  print(\"Time taken in seconds is\", time.time()-ins_start) # gives the time elapsed in seconds\n",
        "\n",
        "insertionSort(l) #calling the function \n",
        "print(\"Insertion sorted list is\",l) # final sorted list"
      ],
      "execution_count": 0,
      "outputs": []
    },
    {
      "cell_type": "markdown",
      "metadata": {
        "id": "-E1EFO5SLTWy",
        "colab_type": "text"
      },
      "source": [
        "# **Merge Sort (using Random List)**\n",
        "\n",
        "Instead of user input, we pass a random generated list created using above modules.\n",
        "\n",
        "The process of execution remains same as we had seen when we used user input list.\n",
        "\n",
        "**Run the code below in order to have a better understanding of each code lines and also to get more information about them.**"
      ]
    },
    {
      "cell_type": "code",
      "metadata": {
        "id": "9jY52gPZLdVz",
        "colab_type": "code",
        "colab": {}
      },
      "source": [
        "import numpy as np\n",
        "import time\n",
        "\n",
        "l=list(np.random.randint(0, 10**5, 10000)) #This list has 10000 random integers from 0 to 100000\n",
        "n=len(l)\n",
        "print(\"Generated random list is\", l)\n",
        "print(\"\")\n",
        "\n",
        "def mergeSort(l): \n",
        "\tif len(l) >1:\n",
        "\t\tmid = len(l)//2 #Finding the mid of the array \n",
        "\t\tL = l[:mid] # first half \n",
        "\t\tR = l[mid:] # second half \n",
        "\n",
        "\t\tmergeSort(L) # Sorting the first half \n",
        "\t\tmergeSort(R) # Sorting the second half \n",
        "\n",
        "\t\ti = j = k = 0\n",
        "\t\t\n",
        "\t\t# merging sorted half array\n",
        "\t\twhile i < len(L) and j < len(R): \n",
        "\t\t\tif L[i] < R[j]: \n",
        "\t\t\t\tl[k] = L[i] \n",
        "\t\t\t\ti+=1\n",
        "\t\t\telse: \n",
        "\t\t\t\tl[k] = R[j] \n",
        "\t\t\t\tj+=1\n",
        "\t\t\tk+=1\n",
        "\t\t\n",
        "\t\twhile i < len(L): #to check if all elements are used\n",
        "\t\t\tl[k] = L[i] \n",
        "\t\t\ti+=1\n",
        "\t\t\tk+=1\n",
        "\t\t\n",
        "\t\twhile j < len(R): \n",
        "\t\t\tl[k] = R[j] \n",
        "\t\t\tj+=1\n",
        "\t\t\tk+=1\n",
        "\n",
        "\n",
        "merge_start=time.time()\n",
        "mergeSort(l) #calling the function\n",
        "print(\"Merge sorted list is\",l) # final sorted list\n",
        "print(\"Time taken in seconds is\", time.time()-merge_start) # gives the time elapsed in seconds"
      ],
      "execution_count": 0,
      "outputs": []
    },
    {
      "cell_type": "markdown",
      "metadata": {
        "id": "UfVRFKblOXzp",
        "colab_type": "text"
      },
      "source": [
        "# **Binary Search (using Random List)**\n",
        "\n",
        "We can even check if a desired element is present in a random list.\n",
        "\n",
        "The working process remains same here as well.\n",
        "\n",
        "**Run the code below in order to have a better understanding of each code lines and also to get more information about them.**"
      ]
    },
    {
      "cell_type": "code",
      "metadata": {
        "id": "jsyaFTwYPTso",
        "colab_type": "code",
        "colab": {}
      },
      "source": [
        "import numpy as np\n",
        "import time\n",
        "\n",
        "l=list(np.random.randint(0, 10**5, 10000)) #This list has 10000 random integers from 0 to 100000\n",
        "n=len(l)\n",
        "print(\"Generated random list is\", l)\n",
        "print(\"\")\n",
        "l.sort()\n",
        "print(\"Sorted random list is\",l)\n",
        "\n",
        "pos=0 # To store the position of the search element\n",
        "first=0 #index of first element\n",
        "last= n-1 #index of last element\n",
        "search=int(input(\"Enter your search element : \")) \n",
        "start=time.time()\n",
        "found = False #bool variable to check whether search element is present or not\n",
        "while first<=last and not found: #looping begins\n",
        "  mid=int((first+last)/2) #finding mid index position, has to be an int type\n",
        "  if l[mid]==search: # if search element is at the mid index\n",
        "    found= True\n",
        "    pos=mid\n",
        "  else: # for a case when search element is not at mid\n",
        "    if search < l[mid]: # data is sorted so if condition satisfied, search element lies in first half\n",
        "      last= mid-1 # for first half\n",
        "      pos=last\n",
        "    else: # for second half\n",
        "      first= mid+1\n",
        "      pos=first\n",
        "if found==False:\n",
        "  print(\"Element not found\")\n",
        "else:\n",
        "  print(\"In the sorted list, element is at index position\",pos)\n",
        "print(\"Time taken in seconds is\", time.time()-start) # gives the time elapsed in seconds"
      ],
      "execution_count": 0,
      "outputs": []
    },
    {
      "cell_type": "markdown",
      "metadata": {
        "id": "VkFi2WgUkKDb",
        "colab_type": "text"
      },
      "source": [
        "# **Linear Search (using Random List)**\n",
        "\n",
        "Another searching method is the Linear Search method. Here, we do not require a pre-sorted list like we used in Binary Search.\n",
        "\n",
        "The working process is pretty simple and direct in Linear search method.\n",
        "\n",
        "Theory -\n",
        "\n",
        "Step 1- We have a list (may be user input (or) randomly generated)\n",
        "\n",
        "Step 2- Enter the search element from the user\n",
        "\n",
        "Step 3- Check each element of the list and see if it matches the search element\n",
        "\n",
        "Step 4- print the result\n",
        "\n",
        "**Run the code below in order to have a better understanding of each code lines and also to get more information about them.**"
      ]
    },
    {
      "cell_type": "code",
      "metadata": {
        "id": "_blOgxb-iT4R",
        "colab_type": "code",
        "colab": {}
      },
      "source": [
        "#Linear_Search \n",
        "#using Random List\n",
        "import numpy as np\n",
        "import time\n",
        "\n",
        "l=list(np.random.randint(0, 100, 10)) #This list has 10000 random integers from 0 to 100000\n",
        "n=len(l)\n",
        "print(\"Generated random list is\", l)\n",
        "print(\"\")\n",
        "\n",
        "pos= -1 #for position of element\n",
        "search=int(input(\"Enter search element: \"))\n",
        "start=time.time()\n",
        "for i in range(0,n):\n",
        "  if l[i]==search:\n",
        "    pos=i\n",
        "if pos > -1:\n",
        "  print(\"Element found at index position\",pos)\n",
        "else:\n",
        "  print(\"Element not found\")\n",
        "print(\"Time taken in seconds is\", time.time()-start) # gives the time elapsed in seconds"
      ],
      "execution_count": 0,
      "outputs": []
    }
  ]
}